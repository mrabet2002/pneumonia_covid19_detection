{
 "cells": [
  {
   "cell_type": "markdown",
   "metadata": {},
   "source": [
    "# Split Dataset\n",
    "\n",
    "## Réalisé par : Ahmed Mrabet\n",
    "\n",
    "## Description\n",
    "Dans ce notebook, nous allons diviser le dataset en 3 parties pour l'entrainement, la validation et le test."
   ]
  },
  {
   "cell_type": "code",
   "execution_count": 6,
   "metadata": {},
   "outputs": [],
   "source": [
    "import os\n",
    "import shutil\n",
    "from sklearn.model_selection import train_test_split"
   ]
  },
  {
   "cell_type": "markdown",
   "metadata": {},
   "source": [
    "### Definition de la fonction split_dataset\n",
    "La fonction split_dataset prend en entrée le dataset et les proportions de division.\n",
    "Le resultat est un nouveau dataset contenant les 3 parties.\n",
    "\n",
    "**Arguments:**\n",
    "- input_dir : le chemin du dataset\n",
    "- output_dir : le chemin du nouveau dataset divisé\n",
    "- train_size : la proportion de la partie train\n",
    "- val_size : la proportion de la partie validation"
   ]
  },
  {
   "cell_type": "code",
   "execution_count": 7,
   "metadata": {},
   "outputs": [],
   "source": [
    "\n",
    "def split_dataset(input_dir, output_dir, train_size=0.7, val_size=0.2):\n",
    "    \"\"\"\n",
    "    Splits dataset into training, validation, and test sets.\n",
    "\n",
    "    Args:\n",
    "        input_dir (str): Path to the dataset organized by class folders.\n",
    "        output_dir (str): Path to the output directory for train, test, and validation sets.\n",
    "        train_size (float): Proportion of the dataset to include in the training set.\n",
    "        val_size (float): Proportion of the dataset to include in the validation set.\n",
    "    \"\"\"\n",
    "    # Ensure train_size and val_size are compatible\n",
    "    assert train_size + val_size < 1.0, \"Train and validation sizes must sum to less than 1.0\"\n",
    "    \n",
    "    # Create directories for train, test, and validation\n",
    "    for split in ['train', 'validation', 'test']:\n",
    "        split_dir = os.path.join(output_dir, split)\n",
    "        os.makedirs(split_dir, exist_ok=True)\n",
    "\n",
    "    # Iterate through each class folder\n",
    "    for class_name in os.listdir(input_dir):\n",
    "        class_path = os.path.join(input_dir, class_name)\n",
    "        \n",
    "        if not os.path.isdir(class_path):\n",
    "            continue\n",
    "        \n",
    "        # Get all images in the class folder\n",
    "        images = os.listdir(class_path)\n",
    "        images = [os.path.join(class_path, img) for img in images if os.path.isfile(os.path.join(class_path, img))]\n",
    "        \n",
    "        # Split data\n",
    "        train, remaining = train_test_split(images, test_size=1 - train_size, random_state=42)\n",
    "        val, test = train_test_split(remaining, test_size=(1 - train_size - val_size) / (1 - train_size), random_state=42)\n",
    "        \n",
    "        # Copy files to their respective folders\n",
    "        for split, split_data in zip(['train', 'validation', 'test'], [train, val, test]):\n",
    "            split_class_dir = os.path.join(output_dir, split, class_name)\n",
    "            os.makedirs(split_class_dir, exist_ok=True)\n",
    "            \n",
    "            for img in split_data:\n",
    "                shutil.copy(img, split_class_dir)\n",
    "    \n",
    "    print(f\"Dataset split completed. Organized into {output_dir}\")\n"
   ]
  },
  {
   "cell_type": "markdown",
   "metadata": {},
   "source": [
    "### Split du dataset\n",
    "\n",
    "Nous allons diviser le dataset en 3 parties :\n",
    "- Train : 60%\n",
    "- Validation : 20%\n",
    "- Test : 20%"
   ]
  },
  {
   "cell_type": "code",
   "execution_count": 8,
   "metadata": {},
   "outputs": [
    {
     "name": "stdout",
     "output_type": "stream",
     "text": [
      "Dataset split completed. Organized into chest_xray_dataset\n"
     ]
    }
   ],
   "source": [
    "input_dir = \"chest_xray_dataset_no_split\"\n",
    "output_dir = \"chest_xray_dataset\"\n",
    "split_dataset(input_dir, output_dir, train_size=0.7, val_size=0.2)"
   ]
  }
 ],
 "metadata": {
  "kernelspec": {
   "display_name": "Python 3",
   "language": "python",
   "name": "python3"
  },
  "language_info": {
   "codemirror_mode": {
    "name": "ipython",
    "version": 3
   },
   "file_extension": ".py",
   "mimetype": "text/x-python",
   "name": "python",
   "nbconvert_exporter": "python",
   "pygments_lexer": "ipython3",
   "version": "3.12.7"
  }
 },
 "nbformat": 4,
 "nbformat_minor": 2
}
